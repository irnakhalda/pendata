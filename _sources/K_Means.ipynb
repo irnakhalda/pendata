{
  "cells": [
    {
      "cell_type": "markdown",
      "metadata": {
        "id": "PK3D4VAyHnzW"
      },
      "source": [
        "# TUGAS 3 K-Means Cluster 2,3 dan 4"
      ]
    },
    {
      "cell_type": "code",
      "execution_count": 1,
      "metadata": {
        "colab": {
          "base_uri": "https://localhost:8080/"
        },
        "id": "vYjit6OIDBSL",
        "outputId": "b5152ec6-3bfe-4955-b150-3e03c3b48b89"
      },
      "outputs": [
        {
          "name": "stdout",
          "output_type": "stream",
          "text": [
            "Requirement already satisfied: pymysql in /usr/local/python/3.12.1/lib/python3.12/site-packages (1.1.1)\n",
            "\n",
            "\u001b[1m[\u001b[0m\u001b[34;49mnotice\u001b[0m\u001b[1;39;49m]\u001b[0m\u001b[39;49m A new release of pip is available: \u001b[0m\u001b[31;49m24.3.1\u001b[0m\u001b[39;49m -> \u001b[0m\u001b[32;49m25.1.1\u001b[0m\n",
            "\u001b[1m[\u001b[0m\u001b[34;49mnotice\u001b[0m\u001b[1;39;49m]\u001b[0m\u001b[39;49m To update, run: \u001b[0m\u001b[32;49mpython -m pip install --upgrade pip\u001b[0m\n",
            "Note: you may need to restart the kernel to use updated packages.\n",
            "Requirement already satisfied: psycopg2 in /usr/local/python/3.12.1/lib/python3.12/site-packages (2.9.10)\n",
            "\n",
            "\u001b[1m[\u001b[0m\u001b[34;49mnotice\u001b[0m\u001b[1;39;49m]\u001b[0m\u001b[39;49m A new release of pip is available: \u001b[0m\u001b[31;49m24.3.1\u001b[0m\u001b[39;49m -> \u001b[0m\u001b[32;49m25.1.1\u001b[0m\n",
            "\u001b[1m[\u001b[0m\u001b[34;49mnotice\u001b[0m\u001b[1;39;49m]\u001b[0m\u001b[39;49m To update, run: \u001b[0m\u001b[32;49mpython -m pip install --upgrade pip\u001b[0m\n",
            "Note: you may need to restart the kernel to use updated packages.\n"
          ]
        }
      ],
      "source": [
        "%pip install pymysql\n",
        "%pip install psycopg2"
      ]
    },
    {
      "cell_type": "markdown",
      "metadata": {
        "id": "nEQ6Sw6dHHr_"
      },
      "source": [
        "## Bagian Awal: Ambil dan Gabungkan Data\n",
        "\n"
      ]
    },
    {
      "cell_type": "markdown",
      "metadata": {},
      "source": [
        "Kode dibawah menghubungkan ke dua database berbeda: PostgreSQL dan MySQL, mengambil data dari tabel `iris_postgresql` dan `irismysql`, lalu menggabungkan keduanya berdasarkan kolom `id` dan `class` menggunakan metode join `inner`. Fungsi `get_pg_data()` menghubungkan ke PostgreSQL menggunakan `psycopg2`, mengambil semua data dengan perintah SQL `SELECT * FROM iris_postgresql`, dan mengubahnya menjadi DataFrame Pandas. Fungsi `get_mysql_data()` melakukan hal yang sama untuk MySQL menggunakan `pymysql`. Hasil dari kedua fungsi ini adalah dua DataFrame (`df_postgresql` dan `df_mysql`) yang kemudian digabungkan dengan `pd.merge()` berdasarkan kolom yang sama di kedua tabel. Hasil penggabungan ini disimpan dalam `df_merged` dan ditampilkan di konsol tanpa menampilkan indeks baris menggunakan `to_string(index=False)`."
      ]
    },
    {
      "cell_type": "code",
      "execution_count": 3,
      "metadata": {
        "colab": {
          "base_uri": "https://localhost:8080/"
        },
        "id": "ikzlcW51FKOX",
        "outputId": "08ae5ccc-bf6e-4ebf-b92c-718204268cf5"
      },
      "outputs": [
        {
          "name": "stdout",
          "output_type": "stream",
          "text": [
            " id           class  petal_length  petal_width  sepal_length  sepal_width\n",
            "  1     Iris-setosa           1.4          0.2           5.1          3.5\n",
            "  2     Iris-setosa          14.0          2.0          40.9         30.0\n",
            "  3     Iris-setosa           1.3          0.2           4.7          3.2\n",
            "  4     Iris-setosa          15.0         20.0          46.0         31.0\n",
            "  5     Iris-setosa           1.4          0.2           5.0          3.6\n",
            "  6     Iris-setosa           1.7          0.4           5.4          3.9\n",
            "  7     Iris-setosa           1.4          0.3           4.6          3.4\n",
            "  8     Iris-setosa           1.5          0.2           5.0          3.4\n",
            "  9     Iris-setosa           1.4          0.2           4.4          2.9\n",
            " 10     Iris-setosa           1.5          0.1           4.9          3.1\n",
            " 11     Iris-setosa           1.5          0.2           5.4          3.7\n",
            " 12     Iris-setosa          16.0         20.0          48.0         34.0\n",
            " 13     Iris-setosa           1.4          0.1           4.8          3.0\n",
            " 14     Iris-setosa           1.1          0.1           4.3          3.0\n",
            " 15     Iris-setosa           1.2          0.2           5.8          4.0\n",
            " 16     Iris-setosa           1.5          0.4           5.7          4.4\n",
            " 17     Iris-setosa           1.3          0.4           5.4          3.9\n",
            " 18     Iris-setosa           1.4          0.3           5.1          3.5\n",
            " 19     Iris-setosa           1.7          0.3           5.7          3.8\n",
            " 20     Iris-setosa           1.5          0.3           5.1          3.8\n",
            " 21     Iris-setosa          17.0          2.0          54.0         34.0\n",
            " 22     Iris-setosa          15.0          4.0          51.0         37.0\n",
            " 23     Iris-setosa           1.0          0.2           4.6          3.6\n",
            " 24     Iris-setosa           1.7          0.5           5.1          3.3\n",
            " 25     Iris-setosa           1.9          0.2           4.8          3.4\n",
            " 26     Iris-setosa           1.6          0.2           5.0          3.0\n",
            " 27     Iris-setosa           1.6          0.4           5.0          3.4\n",
            " 28     Iris-setosa           1.5          0.2           5.2          3.5\n",
            " 29     Iris-setosa           1.4          0.2           5.2          3.4\n",
            " 30     Iris-setosa           1.6          0.2           4.7          3.2\n",
            " 31     Iris-setosa           1.6          0.2           4.8          3.1\n",
            " 32     Iris-setosa           1.5          0.4           5.4          3.4\n",
            " 33     Iris-setosa           1.5          0.1           5.2          4.1\n",
            " 34     Iris-setosa           1.4          0.2           5.5          4.2\n",
            " 35     Iris-setosa           1.5          0.1           4.9          3.1\n",
            " 36     Iris-setosa           1.2          0.2           5.0          3.2\n",
            " 37     Iris-setosa           1.3          0.2           5.5          3.5\n",
            " 38     Iris-setosa           1.5          0.1           4.9          3.1\n",
            " 39     Iris-setosa           1.3          0.2           4.4          3.0\n",
            " 40     Iris-setosa           1.5          0.2           5.1          3.4\n",
            " 41     Iris-setosa           1.3          0.3           5.0          3.5\n",
            " 42     Iris-setosa           1.3          0.3           4.5          2.3\n",
            " 43     Iris-setosa           1.3          0.2           4.4          3.2\n",
            " 44     Iris-setosa           1.6          0.6           5.0          3.5\n",
            " 45     Iris-setosa           1.9          0.4           5.1          3.8\n",
            " 46     Iris-setosa           1.4          0.3           4.8          3.0\n",
            " 47     Iris-setosa           1.6          0.2           5.1          3.8\n",
            " 48     Iris-setosa           1.4          0.2           4.6          3.2\n",
            " 49     Iris-setosa           1.5          0.2           5.3          3.7\n",
            " 50     Iris-setosa           1.4          0.2           5.0          3.3\n",
            " 51 Iris-versicolor           4.7          1.4           7.0          3.2\n",
            " 52 Iris-versicolor           4.5          1.5           6.4          3.2\n",
            " 53 Iris-versicolor           4.9          1.5           6.9          3.1\n",
            " 54 Iris-versicolor           4.0          1.3           5.5          2.3\n",
            " 55 Iris-versicolor           4.6          1.5           6.5          2.8\n",
            " 56 Iris-versicolor           4.5          1.3           5.7          2.8\n",
            " 57 Iris-versicolor           4.7          1.6           6.3          3.3\n",
            " 58 Iris-versicolor           3.3          1.0           4.9          2.4\n",
            " 59 Iris-versicolor          46.0         13.0          66.0         29.0\n",
            " 60 Iris-versicolor           3.9          1.4           5.2          2.7\n",
            " 61 Iris-versicolor          35.0         10.0          50.0         20.0\n",
            " 62 Iris-versicolor           4.2          1.5           5.9          3.0\n",
            " 63 Iris-versicolor           4.0          1.0           6.0          2.2\n",
            " 64 Iris-versicolor           4.7          1.4           6.1          2.9\n",
            " 65 Iris-versicolor           3.6          1.3           5.6          2.9\n",
            " 66 Iris-versicolor           4.4          1.4           6.7          3.1\n",
            " 67 Iris-versicolor          45.0         15.0          56.0         30.0\n",
            " 68 Iris-versicolor           4.1          1.0           5.8          2.7\n",
            " 69 Iris-versicolor           4.5          1.5           6.2          2.2\n",
            " 70 Iris-versicolor           3.9          1.1           5.6          2.5\n",
            " 71 Iris-versicolor           4.8          1.8           5.9          3.2\n",
            " 72 Iris-versicolor           4.0          1.3           6.1          2.8\n",
            " 73 Iris-versicolor           4.9          1.5           6.3          2.5\n",
            " 74 Iris-versicolor           4.7          1.2           6.1          2.8\n",
            " 75 Iris-versicolor           4.3          1.3           6.4          2.9\n",
            " 76 Iris-versicolor           4.4          1.4           6.6          3.0\n",
            " 77 Iris-versicolor           4.8          1.4           6.8          2.8\n",
            " 78 Iris-versicolor          50.0         17.0          67.0         30.0\n",
            " 79 Iris-versicolor           4.5          1.5           6.0          2.9\n",
            " 80 Iris-versicolor           3.5          1.0           5.7          2.6\n",
            " 81 Iris-versicolor           3.8          1.1           5.5          2.4\n",
            " 82 Iris-versicolor           3.7          1.0           5.5          2.4\n",
            " 83 Iris-versicolor           3.9          1.2           5.8          2.7\n",
            " 84 Iris-versicolor           5.1          1.6           6.0          2.7\n",
            " 85 Iris-versicolor           4.5          1.5           5.4          3.0\n",
            " 86 Iris-versicolor           4.5          1.6           6.0          3.4\n",
            " 87 Iris-versicolor           4.7          1.5           6.7          3.1\n",
            " 88 Iris-versicolor           4.4          1.3           6.3          2.3\n",
            " 89 Iris-versicolor           4.1          1.3           5.6          3.0\n",
            " 90 Iris-versicolor           4.0          1.3           5.5          2.5\n",
            " 91 Iris-versicolor           4.4          1.2           5.5          2.6\n",
            " 92 Iris-versicolor           4.6          1.4           6.1          3.0\n",
            " 93 Iris-versicolor           4.0          1.2           5.8          2.6\n",
            " 94 Iris-versicolor          33.0         10.0          50.0         23.0\n",
            " 95 Iris-versicolor           4.2          1.3           5.6          2.7\n",
            " 96 Iris-versicolor           4.2          1.2           5.7          3.0\n",
            " 97 Iris-versicolor           4.2          1.3           5.7          2.9\n",
            " 98 Iris-versicolor           4.3          1.3           6.2          2.9\n",
            " 99 Iris-versicolor           3.0          1.1           5.1          2.5\n",
            "100 Iris-versicolor           4.1          1.3           5.7          2.8\n",
            "101  Iris-virginica           6.0          2.5           6.3          3.3\n",
            "102  Iris-virginica           5.1          1.9           5.8          2.7\n",
            "103  Iris-virginica           5.9          2.1           7.1          3.0\n",
            "104  Iris-virginica           5.6          1.8           6.3          2.9\n",
            "105  Iris-virginica           5.8          2.2           6.5          3.0\n",
            "106  Iris-virginica          66.0         21.0          76.0         30.0\n",
            "107  Iris-virginica           4.5          1.7           4.9          2.5\n",
            "108  Iris-virginica           6.3          1.8           7.3          2.9\n",
            "109  Iris-virginica           5.8          1.8           6.7          2.5\n",
            "110  Iris-virginica          61.0         25.0          72.0         36.0\n",
            "111  Iris-virginica           5.1          2.0           6.5          3.2\n",
            "112  Iris-virginica           5.3          1.9           6.4          2.7\n",
            "113  Iris-virginica           5.5          2.1           6.8          3.0\n",
            "114  Iris-virginica           5.0          2.0           5.7          2.5\n",
            "115  Iris-virginica           5.1          2.4           5.8          2.8\n",
            "116  Iris-virginica           5.3          2.3           6.4          3.2\n",
            "117  Iris-virginica           5.5          1.8           6.5          3.0\n",
            "118  Iris-virginica          67.0         22.0          77.0         38.0\n",
            "119  Iris-virginica           6.9          2.3           7.7          2.6\n",
            "120  Iris-virginica           5.0          1.5           6.0          2.2\n",
            "121  Iris-virginica           5.7          2.3           6.9          3.2\n",
            "122  Iris-virginica           4.9          2.0           5.6          2.8\n",
            "123  Iris-virginica           6.7          2.0           7.7          2.8\n",
            "124  Iris-virginica           4.9          1.8           6.3          2.7\n",
            "125  Iris-virginica           5.7          2.1           6.7          3.3\n",
            "126  Iris-virginica           6.0          1.8           7.2          3.2\n",
            "127  Iris-virginica          48.0         18.0          62.0         28.0\n",
            "128  Iris-virginica           4.9          1.8           6.1          3.0\n",
            "129  Iris-virginica           5.6          2.1           6.4          2.8\n",
            "130  Iris-virginica           5.8          1.6           7.2          3.0\n",
            "131  Iris-virginica           6.1          1.9           7.4          2.8\n",
            "132  Iris-virginica          64.0         20.0          79.0         38.0\n",
            "133  Iris-virginica           5.6          2.2           6.4          2.8\n",
            "134  Iris-virginica           5.1          1.5           6.3          2.8\n",
            "135  Iris-virginica           5.6          1.4           6.1          2.6\n",
            "136  Iris-virginica           6.1          2.3           7.7          3.0\n",
            "137  Iris-virginica           5.6          2.4           6.3          3.4\n",
            "138  Iris-virginica           5.5          1.8           6.4          3.1\n",
            "139  Iris-virginica           4.8          1.8           6.0          3.0\n",
            "140  Iris-virginica           5.4          2.1           6.9          3.1\n",
            "141  Iris-virginica           5.6          2.4           6.7          3.1\n",
            "142  Iris-virginica           5.1          2.3           6.9          3.1\n",
            "143  Iris-virginica           5.1          1.9           5.8          2.7\n",
            "144  Iris-virginica           5.9          2.3           6.8          3.2\n",
            "145  Iris-virginica           5.7          2.5           6.7          3.3\n",
            "146  Iris-virginica           5.2          2.3           6.7          3.0\n",
            "147  Iris-virginica           5.0          1.9           6.3          2.5\n",
            "148  Iris-virginica           5.2          2.0           6.5          3.0\n",
            "149  Iris-virginica           5.4          2.3           6.2          3.4\n",
            "150  Iris-virginica           5.1          1.8           5.9          3.0\n"
          ]
        }
      ],
      "source": [
        "import psycopg2\n",
        "import pymysql\n",
        "import numpy as np\n",
        "import pandas as pd\n",
        "\n",
        "def get_pg_data():\n",
        "    conn = psycopg2.connect(\n",
        "        host=\"pg-386e5cc2-pendatatugas.i.aivencloud.com\",\n",
        "        user=\"avnadmin\",\n",
        "        password=\"AVNS_7tnhSuMHnji20iEQMHm\",\n",
        "        database=\"defaultdb\",\n",
        "        port=18544\n",
        "    )\n",
        "    cursor = conn.cursor()\n",
        "    cursor.execute(\"SELECT * FROM iris_postgresql\")\n",
        "    data = cursor.fetchall()\n",
        "    columns = [desc[0] for desc in cursor.description]\n",
        "    cursor.close()\n",
        "    conn.close()\n",
        "\n",
        "    \n",
        "\n",
        "    return pd.DataFrame(data, columns=columns)\n",
        "\n",
        "def get_mysql_data():\n",
        "    conn = pymysql.connect(\n",
        "        host=\"mysql-1d4251e3-pendatatugas.i.aivencloud.com\",\n",
        "        user=\"avnadmin\",\n",
        "        password=\"AVNS_pyuM76LsQluDuryhiI2\",\n",
        "        database=\"defaultdb\",\n",
        "        port=18544\n",
        "    )\n",
        "    cursor = conn.cursor()\n",
        "    cursor.execute(\"SELECT * FROM irismysql\")\n",
        "    data = cursor.fetchall()\n",
        "    columns = [desc[0] for desc in cursor.description]\n",
        "    cursor.close()\n",
        "    conn.close()\n",
        "\n",
        "    return pd.DataFrame(data, columns=columns)\n",
        "\n",
        "# Ambil data dari kedua database\n",
        "df_postgresql = get_pg_data()\n",
        "df_mysql = get_mysql_data()\n",
        "\n",
        "# Gabungkan berdasarkan kolom 'id' dan 'Class'\n",
        "df_merged = pd.merge(df_mysql, df_postgresql, on=[\"id\", \"class\"], how=\"inner\")\n",
        "\n",
        "# Cetak semua data hasil gabungan tanpa indeks\n",
        "print(df_merged.to_string(index=False))"
      ]
    },
    {
      "cell_type": "markdown",
      "metadata": {
        "id": "ASHGuu2HGpS7"
      },
      "source": [
        "## Preprocessing dan Reduksi Dimensi\n"
      ]
    },
    {
      "cell_type": "markdown",
      "metadata": {},
      "source": [
        "Kode dibawah melakukan proses **normalisasi** dan **reduksi dimensi** terhadap data hasil penggabungan PostgreSQL dan MySQL (`df_merged`). Pertama, kolom non-numerik `id` dan `class` dihapus dari DataFrame menggunakan `.drop()`, sehingga hanya kolom numerik yang akan digunakan untuk analisis. Selanjutnya, data dinormalisasi menggunakan `StandardScaler()` dari Scikit-Learn untuk memastikan setiap fitur memiliki rata-rata 0 dan standar deviasi 1, menghasilkan `scaled_features`. Kemudian, proses **reduksi dimensi** dilakukan menggunakan **Principal Component Analysis (PCA)** dengan mengonfigurasi jumlah komponen (`n_components=2`) untuk mereduksi data ke dalam dua dimensi utama. Hasil reduksi ini disimpan dalam variabel `reduced_features`, yang dapat digunakan untuk visualisasi lebih lanjut atau analisis lanjutan."
      ]
    },
    {
      "cell_type": "code",
      "execution_count": 4,
      "metadata": {
        "id": "yIHl7a-EFS0q"
      },
      "outputs": [],
      "source": [
        "from sklearn.preprocessing import StandardScaler\n",
        "from sklearn.decomposition import PCA\n",
        "\n",
        "# Drop kolom non-numerik\n",
        "features = df_merged.drop(columns=['id', 'class'])\n",
        "\n",
        "# Normalisasi\n",
        "scaler = StandardScaler()\n",
        "scaled_features = scaler.fit_transform(features)\n",
        "\n",
        "# Reduksi dimensi untuk visualisasi\n",
        "pca = PCA(n_components=2)\n",
        "reduced_features = pca.fit_transform(scaled_features)\n"
      ]
    },
    {
      "cell_type": "markdown",
      "metadata": {
        "id": "L0oRa376GuG4"
      },
      "source": [
        "## Clustering + Visualisasi (2 Cluster)"
      ]
    },
    {
      "cell_type": "markdown",
      "metadata": {},
      "source": [
        "Kode dibawah melakukan **clustering** menggunakan algoritma **KMeans** pada data hasil normalisasi (`scaled_features`). Pertama, objek `KMeans` dibuat dengan parameter `n_clusters=2`, menandakan bahwa data akan dikelompokkan menjadi 2 klaster, serta `random_state=42` untuk hasil yang konsisten dan `n_init=10` yang menentukan jumlah inisialisasi ulang untuk hasil terbaik. Data kemudian dikelompokkan menggunakan `.fit_predict()`, menghasilkan label klaster yang disimpan dalam `labels_2`.\n",
        "\n",
        "Selanjutnya, dua metrik evaluasi dihitung:\n",
        "\n",
        "1. **Inertia**: Jumlah kuadrat jarak dari tiap titik ke pusat klasternya, digunakan untuk mengukur kepadatan klaster.\n",
        "2. **Silhouette Score**: Ukuran seberapa baik setiap titik data berada di dalam klasternya, bernilai antara -1 dan 1 (semakin tinggi, semakin baik pengelompokan).\n",
        "\n",
        "Hasil evaluasi ditampilkan di konsol. Terakhir, data divisualisasikan dalam dua dimensi hasil reduksi PCA (`reduced_features`), diwarnai berdasarkan label klaster (`c=labels_2`) dengan skema warna 'viridis'. Grafik diberi label sumbu, judul, dan grid untuk memudahkan interpretasi.\n"
      ]
    },
    {
      "cell_type": "code",
      "execution_count": 5,
      "metadata": {
        "colab": {
          "base_uri": "https://localhost:8080/",
          "height": 427
        },
        "id": "TxmjZ2gXGYlj",
        "outputId": "f7dd3c88-c4f7-4fbe-cac1-48f09c2f9b6e"
      },
      "outputs": [
        {
          "name": "stdout",
          "output_type": "stream",
          "text": [
            "[2 Clusters] Inertia: 92.38, Silhouette Score: 0.9092\n"
          ]
        },
        {
          "data": {
            "image/png": "[encoded data removed]",
            "text/plain": [
              "<Figure size 600x400 with 1 Axes>"
            ]
          },
          "metadata": {},
          "output_type": "display_data"
        }
      ],
      "source": [
        "import matplotlib.pyplot as plt\n",
        "from sklearn.cluster import KMeans\n",
        "from sklearn.metrics import silhouette_score\n",
        "\n",
        "# KMeans dengan 2 cluster\n",
        "kmeans_2 = KMeans(n_clusters=2, random_state=42, n_init=10)\n",
        "labels_2 = kmeans_2.fit_predict(scaled_features)\n",
        "\n",
        "# Metode evaluasi\n",
        "inertia_2 = kmeans_2.inertia_\n",
        "silhouette_2 = silhouette_score(scaled_features, labels_2)\n",
        "\n",
        "print(f\"[2 Clusters] Inertia: {inertia_2:.2f}, Silhouette Score: {silhouette_2:.4f}\")\n",
        "\n",
        "# Visualisasi\n",
        "plt.figure(figsize=(6, 4))\n",
        "plt.scatter(reduced_features[:, 0], reduced_features[:, 1], c=labels_2, cmap='viridis', s=50)\n",
        "plt.title(\"KMeans Clustering (2 Clusters)\")\n",
        "plt.xlabel(\"PCA 1\")\n",
        "plt.ylabel(\"PCA 2\")\n",
        "plt.grid(True)\n",
        "plt.show()\n"
      ]
    },
    {
      "cell_type": "markdown",
      "metadata": {
        "id": "Xqzlob3SG3Qm"
      },
      "source": [
        "## Clustering + Visualisasi (3 Cluster)\n"
      ]
    },
    {
      "cell_type": "markdown",
      "metadata": {},
      "source": [
        "Kode dibawah melakukan **clustering** menggunakan algoritma **KMeans** dengan jumlah klaster yang berbeda, yaitu 3 klaster. Prosesnya hampir sama dengan kode sebelumnya yang menggunakan 2 klaster. Berikut adalah langkah-langkah yang dilakukan:\n",
        "\n",
        "1. **Inisialisasi KMeans**: Objek `KMeans` dibuat dengan parameter `n_clusters=3` untuk membagi data menjadi 3 kelompok, `random_state=42` untuk konsistensi hasil, dan `n_init=10` untuk menjalankan algoritma beberapa kali dan memilih hasil terbaik.\n",
        "\n",
        "2. **Proses Clustering**: Metode `.fit_predict()` dijalankan pada data hasil normalisasi (`scaled_features`) untuk menghasilkan label klaster yang disimpan dalam `labels_3`.\n",
        "\n",
        "3. **Evaluasi Klaster**:\n",
        "\n",
        "   * **Inertia**: Mengukur total jarak kuadrat antara titik data dan pusat klasternya, yang menggambarkan kepadatan masing-masing klaster.\n",
        "   * **Silhouette Score**: Mengukur kualitas klaster dengan rentang nilai dari -1 (buruk) hingga 1 (baik), semakin tinggi skor, semakin baik pengelompokan.\n",
        "\n",
        "4. **Visualisasi**:\n",
        "\n",
        "   * Data hasil reduksi dimensi PCA (`reduced_features`) diplot dalam dua dimensi.\n",
        "   * Setiap titik diwarnai sesuai label klasternya (`c=labels_3`) menggunakan skema warna 'viridis'.\n",
        "   * Grafik dilengkapi dengan judul, label sumbu, dan grid untuk memudahkan interpretasi.\n",
        "\n",
        "Dengan menambah klaster dari 2 ke 3, kita dapat mengevaluasi apakah distribusi data lebih terstruktur dan apakah nilai *Silhouette Score* meningkat, menandakan klaster yang lebih baik."
      ]
    },
    {
      "cell_type": "code",
      "execution_count": 6,
      "metadata": {
        "colab": {
          "base_uri": "https://localhost:8080/",
          "height": 427
        },
        "id": "Y2PZfhCDGb91",
        "outputId": "314268d0-0551-4b5e-aef0-df6d1f05b1f8"
      },
      "outputs": [
        {
          "name": "stdout",
          "output_type": "stream",
          "text": [
            "[3 Clusters] Inertia: 42.29, Silhouette Score: 0.8962\n"
          ]
        },
        {
          "data": {
            "image/png": "[encoded data removed]",
            "text/plain": [
              "<Figure size 600x400 with 1 Axes>"
            ]
          },
          "metadata": {},
          "output_type": "display_data"
        }
      ],
      "source": [
        "# KMeans dengan 3 cluster\n",
        "kmeans_3 = KMeans(n_clusters=3, random_state=42, n_init=10)\n",
        "labels_3 = kmeans_3.fit_predict(scaled_features)\n",
        "\n",
        "inertia_3 = kmeans_3.inertia_\n",
        "silhouette_3 = silhouette_score(scaled_features, labels_3)\n",
        "\n",
        "print(f\"[3 Clusters] Inertia: {inertia_3:.2f}, Silhouette Score: {silhouette_3:.4f}\")\n",
        "\n",
        "plt.figure(figsize=(6, 4))\n",
        "plt.scatter(reduced_features[:, 0], reduced_features[:, 1], c=labels_3, cmap='viridis', s=50)\n",
        "plt.title(\"KMeans Clustering (3 Clusters)\")\n",
        "plt.xlabel(\"PCA 1\")\n",
        "plt.ylabel(\"PCA 2\")\n",
        "plt.grid(True)\n",
        "plt.show()\n"
      ]
    },
    {
      "cell_type": "markdown",
      "metadata": {
        "id": "_fByp0JeG7KA"
      },
      "source": [
        "## Clustering + Visualisasi (4 Cluster)\n",
        "\n"
      ]
    },
    {
      "cell_type": "markdown",
      "metadata": {},
      "source": [
        "Kode dibawah memperluas proses **KMeans Clustering** dengan menambah jumlah klaster menjadi **4**. Pertama, objek `KMeans` diinisialisasi dengan parameter `n_clusters=4`, `random_state=42`, dan `n_init=10`, lalu diterapkan pada data yang telah dinormalisasi (`scaled_features`) menggunakan `.fit_predict()`, menghasilkan label klaster yang disimpan dalam `labels_4`. Selanjutnya, dilakukan evaluasi menggunakan dua metrik utama: **Inertia**, yang mengukur total jarak kuadrat dari tiap titik ke pusat klasternya (semakin kecil, semakin baik), dan **Silhouette Score**, yang menilai kesesuaian data dalam klaster (semakin tinggi, semakin baik). Terakhir, hasil klaster divisualisasikan dalam dua dimensi hasil reduksi PCA (`reduced_features`), diwarnai sesuai label klaster, dengan skema warna 'viridis', lengkap dengan judul, label sumbu, dan grid untuk mempermudah interpretasi.\n"
      ]
    },
    {
      "cell_type": "code",
      "execution_count": 7,
      "metadata": {
        "colab": {
          "base_uri": "https://localhost:8080/",
          "height": 427
        },
        "id": "UD3tq39CGip2",
        "outputId": "5de6c9f1-ac3b-4b9e-ebd4-a36004f2ccef"
      },
      "outputs": [
        {
          "name": "stdout",
          "output_type": "stream",
          "text": [
            "[4 Clusters] Inertia: 26.83, Silhouette Score: 0.8935\n"
          ]
        },
        {
          "data": {
            "image/png": "[encoded data removed]",
            "text/plain": [
              "<Figure size 600x400 with 1 Axes>"
            ]
          },
          "metadata": {},
          "output_type": "display_data"
        }
      ],
      "source": [
        "# KMeans dengan 4 cluster\n",
        "kmeans_4 = KMeans(n_clusters=4, random_state=42, n_init=10)\n",
        "labels_4 = kmeans_4.fit_predict(scaled_features)\n",
        "\n",
        "inertia_4 = kmeans_4.inertia_\n",
        "silhouette_4 = silhouette_score(scaled_features, labels_4)\n",
        "\n",
        "print(f\"[4 Clusters] Inertia: {inertia_4:.2f}, Silhouette Score: {silhouette_4:.4f}\")\n",
        "\n",
        "plt.figure(figsize=(6, 4))\n",
        "plt.scatter(reduced_features[:, 0], reduced_features[:, 1], c=labels_4, cmap='viridis', s=50)\n",
        "plt.title(\"KMeans Clustering (4 Clusters)\")\n",
        "plt.xlabel(\"PCA 1\")\n",
        "plt.ylabel(\"PCA 2\")\n",
        "plt.grid(True)\n",
        "plt.show()\n"
      ]
    }
  ],
  "metadata": {
    "colab": {
      "provenance": []
    },
    "kernelspec": {
      "display_name": "Python 3",
      "name": "python3"
    },
    "language_info": {
      "codemirror_mode": {
        "name": "ipython",
        "version": 3
      },
      "file_extension": ".py",
      "mimetype": "text/x-python",
      "name": "python",
      "nbconvert_exporter": "python",
      "pygments_lexer": "ipython3",
      "version": "3.12.1"
    }
  },
  "nbformat": 4,
  "nbformat_minor": 0
}
